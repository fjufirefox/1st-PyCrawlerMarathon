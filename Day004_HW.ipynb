{
 "cells": [
  {
   "cell_type": "code",
   "execution_count": 1,
   "metadata": {},
   "outputs": [
    {
     "name": "stdout",
     "output_type": "stream",
     "text": [
      "<class 'str'> <class 'list'>\n"
     ]
    }
   ],
   "source": [
    "# 1.比較一下範例檔案中的「r.text」與「json.loads(r.text)」讀出來的內容有什麼差異\n",
    "import requests\n",
    "import json\n",
    "r = requests.get('https://api.github.com/events')\n",
    "print(type(r.text), type(json.loads(r.text)))"
   ]
  },
  {
   "cell_type": "code",
   "execution_count": null,
   "metadata": {},
   "outputs": [],
   "source": [
    "# 2.自行尋找一個合適的 API 接口做練習，並且查看其回傳內容：\n",
    "# \thttps://cat-fact.herokuapp.com/facts (來源：https://alexwohlbruck.github.io/cat-facts/)\n",
    "# \thttp://odata.wra.gov.tw/v4/RealtimeWaterLevel (來源：https://data.gov.tw/dataset/25768)\n",
    "cat_r = requests.get('https://cat-fact.herokuapp.com/facts', params=None)\n",
    "json.loads(cat_r.text,\n",
    "           encoding=None,\n",
    "           cls=None,\n",
    "           object_hook=None,\n",
    "           parse_float=None,\n",
    "           parse_int=None,\n",
    "           parse_constant=None,\n",
    "           object_pairs_hook=None)"
   ]
  }
 ],
 "metadata": {
  "kernelspec": {
   "display_name": "Python 3",
   "language": "python",
   "name": "python3"
  },
  "language_info": {
   "codemirror_mode": {
    "name": "ipython",
    "version": 3
   },
   "file_extension": ".py",
   "mimetype": "text/x-python",
   "name": "python",
   "nbconvert_exporter": "python",
   "pygments_lexer": "ipython3",
   "version": "3.7.4"
  }
 },
 "nbformat": 4,
 "nbformat_minor": 4
}

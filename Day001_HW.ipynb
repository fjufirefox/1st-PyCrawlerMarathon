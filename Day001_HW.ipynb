{
 "cells": [
  {
   "cell_type": "code",
   "execution_count": 13,
   "metadata": {},
   "outputs": [
    {
     "name": "stdout",
     "output_type": "stream",
     "text": [
      "符合 Hello World 字數\n"
     ]
    }
   ],
   "source": [
    "#1.（簡答題）檔案、API、爬蟲三種取得資料方式有什麼不同？\n",
    "#a.檔案:csv、json、xml。\n",
    "#b.API:提供程式化的連接接口，可以選擇資料中要讀取的特定部份，而不需要把整批資料事先完整下載回來。\n",
    "#c.爬蟲:利用爬蟲程式，將網頁的資料解析所需要的部份。\n",
    "\n",
    "#2.（實作）完成一個程式，需滿足下列需求：\n",
    "import os\n",
    "import chardet\n",
    "from urllib.request import urlretrieve\n",
    "\n",
    "#「下載指定檔案到 Data 資料夾，\n",
    "#存成檔名 Homework.txt」的檔案網址：https://www.w3.org/TR/PNG/iso_8859-1.txt 或任一個 .txt 的檔案網址\n",
    "#\n",
    "\n",
    "folderpath = \"Data\"\n",
    "filename = \"Homework.txt\"\n",
    "filepath = \"./\" + folderpath + \"/\" + filename\n",
    "\n",
    "os.makedirs(folderpath, exist_ok=True)\n",
    "\n",
    "txtfile_url = \"https://www.w3.org/TR/PNG/iso_8859-1.txt\"\n",
    "\n",
    "urlretrieve(txtfile_url, filepath)\n",
    "#檢查 Data 資料夾是否有 Homework.txt 檔名之檔案\n",
    "#\n",
    "if os.path.isfile(filepath):\n",
    "    #將「Hello World」字串覆寫到 Homework.txt 檔案\n",
    "    #\n",
    "    f = open(filepath, mode='w')\n",
    "    f.write(\"Hello World\")\n",
    "    f.close()\n",
    "    \n",
    "#檢查 Homework.txt 檔案字數是否符合 Hello World 字數\n",
    "if os.path.isfile(filepath):\n",
    "    f = open(filepath, mode='r')\n",
    "    data = f.read()\n",
    "    if len(data) == len(\"Hello World\"):\n",
    "        print('符合 Hello World 字數')"
   ]
  },
  {
   "cell_type": "code",
   "execution_count": null,
   "metadata": {},
   "outputs": [],
   "source": []
  },
  {
   "cell_type": "code",
   "execution_count": null,
   "metadata": {},
   "outputs": [],
   "source": []
  },
  {
   "cell_type": "code",
   "execution_count": null,
   "metadata": {},
   "outputs": [],
   "source": []
  }
 ],
 "metadata": {
  "kernelspec": {
   "display_name": "Python 3",
   "language": "python",
   "name": "python3"
  },
  "language_info": {
   "codemirror_mode": {
    "name": "ipython",
    "version": 3
   },
   "file_extension": ".py",
   "mimetype": "text/x-python",
   "name": "python",
   "nbconvert_exporter": "python",
   "pygments_lexer": "ipython3",
   "version": "3.7.4"
  }
 },
 "nbformat": 4,
 "nbformat_minor": 4
}
